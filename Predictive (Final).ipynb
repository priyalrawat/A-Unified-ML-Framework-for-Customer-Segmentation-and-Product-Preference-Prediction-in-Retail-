{
 "cells": [
  {
   "cell_type": "code",
   "execution_count": 2,
   "id": "4f9bfabb",
   "metadata": {},
   "outputs": [],
   "source": [
    "# Suppress warnings\n",
    "import warnings\n",
    "warnings.filterwarnings(\"ignore\")\n",
    "\n",
    "# Optional: Set global print options for pandas\n",
    "import pandas as pd\n",
    "pd.set_option('display.max_columns', None)\n",
    "pd.set_option('display.width', 120)\n"
   ]
  },
  {
   "cell_type": "code",
   "execution_count": 3,
   "id": "5053f693",
   "metadata": {},
   "outputs": [],
   "source": [
    "import pandas as pd\n",
    "import numpy as np\n",
    "from sklearn.model_selection import train_test_split\n",
    "from sklearn.preprocessing import LabelEncoder, StandardScaler\n",
    "from sklearn.metrics import classification_report\n",
    "from sklearn.linear_model import LogisticRegression\n",
    "from sklearn.neighbors import KNeighborsClassifier\n",
    "from sklearn.tree import DecisionTreeClassifier\n",
    "from sklearn.ensemble import RandomForestClassifier\n",
    "from xgboost import XGBClassifier"
   ]
  },
  {
   "cell_type": "code",
   "execution_count": 4,
   "id": "1830c8bd",
   "metadata": {},
   "outputs": [
    {
     "name": "stdout",
     "output_type": "stream",
     "text": [
      "✅ Dataset loaded successfully!\n",
      "📊 Shape: (2240, 29)\n"
     ]
    },
    {
     "data": {
      "text/html": [
       "<div>\n",
       "<style scoped>\n",
       "    .dataframe tbody tr th:only-of-type {\n",
       "        vertical-align: middle;\n",
       "    }\n",
       "\n",
       "    .dataframe tbody tr th {\n",
       "        vertical-align: top;\n",
       "    }\n",
       "\n",
       "    .dataframe thead th {\n",
       "        text-align: right;\n",
       "    }\n",
       "</style>\n",
       "<table border=\"1\" class=\"dataframe\">\n",
       "  <thead>\n",
       "    <tr style=\"text-align: right;\">\n",
       "      <th></th>\n",
       "      <th>ID</th>\n",
       "      <th>Year_Birth</th>\n",
       "      <th>Education</th>\n",
       "      <th>Marital_Status</th>\n",
       "      <th>Income</th>\n",
       "      <th>Kidhome</th>\n",
       "      <th>Teenhome</th>\n",
       "      <th>Dt_Customer</th>\n",
       "      <th>Recency</th>\n",
       "      <th>MntWines</th>\n",
       "      <th>MntFruits</th>\n",
       "      <th>MntMeatProducts</th>\n",
       "      <th>MntFishProducts</th>\n",
       "      <th>MntSweetProducts</th>\n",
       "      <th>MntGoldProds</th>\n",
       "      <th>NumDealsPurchases</th>\n",
       "      <th>NumWebPurchases</th>\n",
       "      <th>NumCatalogPurchases</th>\n",
       "      <th>NumStorePurchases</th>\n",
       "      <th>NumWebVisitsMonth</th>\n",
       "      <th>AcceptedCmp3</th>\n",
       "      <th>AcceptedCmp4</th>\n",
       "      <th>AcceptedCmp5</th>\n",
       "      <th>AcceptedCmp1</th>\n",
       "      <th>AcceptedCmp2</th>\n",
       "      <th>Complain</th>\n",
       "      <th>Z_CostContact</th>\n",
       "      <th>Z_Revenue</th>\n",
       "      <th>Response</th>\n",
       "    </tr>\n",
       "  </thead>\n",
       "  <tbody>\n",
       "    <tr>\n",
       "      <th>0</th>\n",
       "      <td>5524</td>\n",
       "      <td>1957</td>\n",
       "      <td>Graduation</td>\n",
       "      <td>Single</td>\n",
       "      <td>58138.0</td>\n",
       "      <td>0</td>\n",
       "      <td>0</td>\n",
       "      <td>04-09-2012</td>\n",
       "      <td>58</td>\n",
       "      <td>635</td>\n",
       "      <td>88</td>\n",
       "      <td>546</td>\n",
       "      <td>172</td>\n",
       "      <td>88</td>\n",
       "      <td>88</td>\n",
       "      <td>3</td>\n",
       "      <td>8</td>\n",
       "      <td>10</td>\n",
       "      <td>4</td>\n",
       "      <td>7</td>\n",
       "      <td>0</td>\n",
       "      <td>0</td>\n",
       "      <td>0</td>\n",
       "      <td>0</td>\n",
       "      <td>0</td>\n",
       "      <td>0</td>\n",
       "      <td>3</td>\n",
       "      <td>11</td>\n",
       "      <td>1</td>\n",
       "    </tr>\n",
       "    <tr>\n",
       "      <th>1</th>\n",
       "      <td>2174</td>\n",
       "      <td>1954</td>\n",
       "      <td>Graduation</td>\n",
       "      <td>Single</td>\n",
       "      <td>46344.0</td>\n",
       "      <td>1</td>\n",
       "      <td>1</td>\n",
       "      <td>08-03-2014</td>\n",
       "      <td>38</td>\n",
       "      <td>11</td>\n",
       "      <td>1</td>\n",
       "      <td>6</td>\n",
       "      <td>2</td>\n",
       "      <td>1</td>\n",
       "      <td>6</td>\n",
       "      <td>2</td>\n",
       "      <td>1</td>\n",
       "      <td>1</td>\n",
       "      <td>2</td>\n",
       "      <td>5</td>\n",
       "      <td>0</td>\n",
       "      <td>0</td>\n",
       "      <td>0</td>\n",
       "      <td>0</td>\n",
       "      <td>0</td>\n",
       "      <td>0</td>\n",
       "      <td>3</td>\n",
       "      <td>11</td>\n",
       "      <td>0</td>\n",
       "    </tr>\n",
       "    <tr>\n",
       "      <th>2</th>\n",
       "      <td>4141</td>\n",
       "      <td>1965</td>\n",
       "      <td>Graduation</td>\n",
       "      <td>Together</td>\n",
       "      <td>71613.0</td>\n",
       "      <td>0</td>\n",
       "      <td>0</td>\n",
       "      <td>21-08-2013</td>\n",
       "      <td>26</td>\n",
       "      <td>426</td>\n",
       "      <td>49</td>\n",
       "      <td>127</td>\n",
       "      <td>111</td>\n",
       "      <td>21</td>\n",
       "      <td>42</td>\n",
       "      <td>1</td>\n",
       "      <td>8</td>\n",
       "      <td>2</td>\n",
       "      <td>10</td>\n",
       "      <td>4</td>\n",
       "      <td>0</td>\n",
       "      <td>0</td>\n",
       "      <td>0</td>\n",
       "      <td>0</td>\n",
       "      <td>0</td>\n",
       "      <td>0</td>\n",
       "      <td>3</td>\n",
       "      <td>11</td>\n",
       "      <td>0</td>\n",
       "    </tr>\n",
       "    <tr>\n",
       "      <th>3</th>\n",
       "      <td>6182</td>\n",
       "      <td>1984</td>\n",
       "      <td>Graduation</td>\n",
       "      <td>Together</td>\n",
       "      <td>26646.0</td>\n",
       "      <td>1</td>\n",
       "      <td>0</td>\n",
       "      <td>10-02-2014</td>\n",
       "      <td>26</td>\n",
       "      <td>11</td>\n",
       "      <td>4</td>\n",
       "      <td>20</td>\n",
       "      <td>10</td>\n",
       "      <td>3</td>\n",
       "      <td>5</td>\n",
       "      <td>2</td>\n",
       "      <td>2</td>\n",
       "      <td>0</td>\n",
       "      <td>4</td>\n",
       "      <td>6</td>\n",
       "      <td>0</td>\n",
       "      <td>0</td>\n",
       "      <td>0</td>\n",
       "      <td>0</td>\n",
       "      <td>0</td>\n",
       "      <td>0</td>\n",
       "      <td>3</td>\n",
       "      <td>11</td>\n",
       "      <td>0</td>\n",
       "    </tr>\n",
       "    <tr>\n",
       "      <th>4</th>\n",
       "      <td>5324</td>\n",
       "      <td>1981</td>\n",
       "      <td>PhD</td>\n",
       "      <td>Married</td>\n",
       "      <td>58293.0</td>\n",
       "      <td>1</td>\n",
       "      <td>0</td>\n",
       "      <td>19-01-2014</td>\n",
       "      <td>94</td>\n",
       "      <td>173</td>\n",
       "      <td>43</td>\n",
       "      <td>118</td>\n",
       "      <td>46</td>\n",
       "      <td>27</td>\n",
       "      <td>15</td>\n",
       "      <td>5</td>\n",
       "      <td>5</td>\n",
       "      <td>3</td>\n",
       "      <td>6</td>\n",
       "      <td>5</td>\n",
       "      <td>0</td>\n",
       "      <td>0</td>\n",
       "      <td>0</td>\n",
       "      <td>0</td>\n",
       "      <td>0</td>\n",
       "      <td>0</td>\n",
       "      <td>3</td>\n",
       "      <td>11</td>\n",
       "      <td>0</td>\n",
       "    </tr>\n",
       "  </tbody>\n",
       "</table>\n",
       "</div>"
      ],
      "text/plain": [
       "     ID  Year_Birth   Education Marital_Status   Income  Kidhome  Teenhome Dt_Customer  Recency  MntWines  MntFruits  \\\n",
       "0  5524        1957  Graduation         Single  58138.0        0         0  04-09-2012       58       635         88   \n",
       "1  2174        1954  Graduation         Single  46344.0        1         1  08-03-2014       38        11          1   \n",
       "2  4141        1965  Graduation       Together  71613.0        0         0  21-08-2013       26       426         49   \n",
       "3  6182        1984  Graduation       Together  26646.0        1         0  10-02-2014       26        11          4   \n",
       "4  5324        1981         PhD        Married  58293.0        1         0  19-01-2014       94       173         43   \n",
       "\n",
       "   MntMeatProducts  MntFishProducts  MntSweetProducts  MntGoldProds  NumDealsPurchases  NumWebPurchases  \\\n",
       "0              546              172                88            88                  3                8   \n",
       "1                6                2                 1             6                  2                1   \n",
       "2              127              111                21            42                  1                8   \n",
       "3               20               10                 3             5                  2                2   \n",
       "4              118               46                27            15                  5                5   \n",
       "\n",
       "   NumCatalogPurchases  NumStorePurchases  NumWebVisitsMonth  AcceptedCmp3  AcceptedCmp4  AcceptedCmp5  AcceptedCmp1  \\\n",
       "0                   10                  4                  7             0             0             0             0   \n",
       "1                    1                  2                  5             0             0             0             0   \n",
       "2                    2                 10                  4             0             0             0             0   \n",
       "3                    0                  4                  6             0             0             0             0   \n",
       "4                    3                  6                  5             0             0             0             0   \n",
       "\n",
       "   AcceptedCmp2  Complain  Z_CostContact  Z_Revenue  Response  \n",
       "0             0         0              3         11         1  \n",
       "1             0         0              3         11         0  \n",
       "2             0         0              3         11         0  \n",
       "3             0         0              3         11         0  \n",
       "4             0         0              3         11         0  "
      ]
     },
     "metadata": {},
     "output_type": "display_data"
    },
    {
     "name": "stdout",
     "output_type": "stream",
     "text": [
      "\n",
      "🧹 Missing Values:\n",
      "ID                      0\n",
      "Year_Birth              0\n",
      "Education               0\n",
      "Marital_Status          0\n",
      "Income                 24\n",
      "Kidhome                 0\n",
      "Teenhome                0\n",
      "Dt_Customer             0\n",
      "Recency                 0\n",
      "MntWines                0\n",
      "MntFruits               0\n",
      "MntMeatProducts         0\n",
      "MntFishProducts         0\n",
      "MntSweetProducts        0\n",
      "MntGoldProds            0\n",
      "NumDealsPurchases       0\n",
      "NumWebPurchases         0\n",
      "NumCatalogPurchases     0\n",
      "NumStorePurchases       0\n",
      "NumWebVisitsMonth       0\n",
      "AcceptedCmp3            0\n",
      "AcceptedCmp4            0\n",
      "AcceptedCmp5            0\n",
      "AcceptedCmp1            0\n",
      "AcceptedCmp2            0\n",
      "Complain                0\n",
      "Z_CostContact           0\n",
      "Z_Revenue               0\n",
      "Response                0\n",
      "dtype: int64\n"
     ]
    }
   ],
   "source": [
    "import pandas as pd\n",
    "\n",
    "# Load the dataset\n",
    "df = pd.read_csv('customer_segmentation.csv')\n",
    "\n",
    "# Confirm successful load\n",
    "print(\"✅ Dataset loaded successfully!\")\n",
    "print(f\"📊 Shape: {df.shape}\")  # (rows, columns)\n",
    "\n",
    "# Display first few rows\n",
    "display(df.head())\n",
    "\n",
    "# Check for missing values\n",
    "print(\"\\n🧹 Missing Values:\")\n",
    "print(df.isnull().sum())\n"
   ]
  },
  {
   "cell_type": "code",
   "execution_count": 5,
   "id": "88dfb3e2",
   "metadata": {},
   "outputs": [
    {
     "name": "stdout",
     "output_type": "stream",
     "text": [
      "['ID', 'Year_Birth', 'Education', 'Marital_Status', 'Income', 'Kidhome', 'Teenhome', 'Dt_Customer', 'Recency', 'MntWines', 'MntFruits', 'MntMeatProducts', 'MntFishProducts', 'MntSweetProducts', 'MntGoldProds', 'NumDealsPurchases', 'NumWebPurchases', 'NumCatalogPurchases', 'NumStorePurchases', 'NumWebVisitsMonth', 'AcceptedCmp3', 'AcceptedCmp4', 'AcceptedCmp5', 'AcceptedCmp1', 'AcceptedCmp2', 'Complain', 'Z_CostContact', 'Z_Revenue', 'Response']\n"
     ]
    }
   ],
   "source": [
    "print(df.columns.tolist())\n"
   ]
  },
  {
   "cell_type": "markdown",
   "id": "c6c0521d",
   "metadata": {},
   "source": [
    "**Handle Missing Income Values (24 missing)**"
   ]
  },
  {
   "cell_type": "code",
   "execution_count": 6,
   "id": "e2d8961a",
   "metadata": {},
   "outputs": [],
   "source": [
    "# Fill missing Income with median (safer than mean due to outliers)\n",
    "df['Income'] = df['Income'].fillna(df['Income'].median())\n"
   ]
  },
  {
   "cell_type": "markdown",
   "id": "f7230f04",
   "metadata": {},
   "source": [
    "**Drop Target Product Columns**"
   ]
  },
  {
   "cell_type": "code",
   "execution_count": 7,
   "id": "4d387e0b",
   "metadata": {},
   "outputs": [],
   "source": [
    "target_products = ['MntWines', 'MntFruits', 'MntMeatProducts', 'MntFishProducts', 'MntSweetProducts', 'MntGoldProds']\n",
    "df_features = df.drop(columns=target_products)\n"
   ]
  },
  {
   "cell_type": "markdown",
   "id": "1c210fe8",
   "metadata": {},
   "source": [
    "**Create Target Variable TargetProduct (based on highest spending)**"
   ]
  },
  {
   "cell_type": "code",
   "execution_count": 8,
   "id": "27d3ec42",
   "metadata": {},
   "outputs": [],
   "source": [
    "product_map = {\n",
    "    'MntWines': 0,\n",
    "    'MntFruits': 1,\n",
    "    'MntMeatProducts': 2,\n",
    "    'MntFishProducts': 3,\n",
    "    'MntSweetProducts': 4,\n",
    "    'MntGoldProds': 5\n",
    "}\n",
    "\n",
    "df['TargetProduct'] = df[target_products].idxmax(axis=1).map(product_map)\n"
   ]
  },
  {
   "cell_type": "markdown",
   "id": "88f8c8b0",
   "metadata": {},
   "source": [
    "Now TargetProduct has values from 0 to 5 representing the most spent product category:\n",
    "\n",
    "0 → Wine\n",
    "\n",
    "1 → Fruits\n",
    "\n",
    "2 → Meat\n",
    "\n",
    "3 → Fish\n",
    "\n",
    "4 → Sweets\n",
    "\n",
    "5 → Gold"
   ]
  },
  {
   "cell_type": "markdown",
   "id": "48d41d2f",
   "metadata": {},
   "source": [
    "**Feature Engineering – Age & Children**"
   ]
  },
  {
   "cell_type": "code",
   "execution_count": 9,
   "id": "ead8de22",
   "metadata": {},
   "outputs": [],
   "source": [
    "# Age from Year_Birth\n",
    "df['Age'] = 2025 - df['Year_Birth']\n",
    "\n",
    "# Total children at home\n",
    "df['Children'] = df['Kidhome'] + df['Teenhome']\n"
   ]
  },
  {
   "cell_type": "markdown",
   "id": "f7b9d62a",
   "metadata": {},
   "source": [
    "**Drop Useless Columns**"
   ]
  },
  {
   "cell_type": "code",
   "execution_count": 10,
   "id": "569691e5",
   "metadata": {},
   "outputs": [],
   "source": [
    "# Drop columns not useful for modeling\n",
    "df_model = df.drop(columns=['ID', 'Year_Birth', 'Dt_Customer', 'Z_CostContact', 'Z_Revenue'])\n"
   ]
  },
  {
   "cell_type": "code",
   "execution_count": 11,
   "id": "5f1a8e1a",
   "metadata": {},
   "outputs": [],
   "source": [
    "# Drop product amount columns (already used to create TargetProduct)\n",
    "df_model = df_model.drop(columns=target_products)\n"
   ]
  },
  {
   "cell_type": "markdown",
   "id": "5707ffb6",
   "metadata": {},
   "source": [
    "**Encode Categorical Variables**"
   ]
  },
  {
   "cell_type": "code",
   "execution_count": 12,
   "id": "62968455",
   "metadata": {},
   "outputs": [],
   "source": [
    "# One-hot encode categorical variables (drop_first avoids multicollinearity)\n",
    "df_model = pd.get_dummies(df_model, columns=['Education', 'Marital_Status'], drop_first=True)\n"
   ]
  },
  {
   "cell_type": "markdown",
   "id": "6afcfe8a",
   "metadata": {},
   "source": [
    "**Standardize Features (excluding the target)**"
   ]
  },
  {
   "cell_type": "code",
   "execution_count": 13,
   "id": "ca2617fc",
   "metadata": {},
   "outputs": [],
   "source": [
    "from sklearn.preprocessing import StandardScaler\n",
    "\n",
    "# Separate features and target\n",
    "X = df_model.drop(columns=['TargetProduct'])\n",
    "y = df_model['TargetProduct']\n",
    "\n",
    "# Standardize numeric features only\n",
    "numeric_cols = X.select_dtypes(include=['int64', 'float64']).columns\n",
    "scaler = StandardScaler()\n",
    "X[numeric_cols] = scaler.fit_transform(X[numeric_cols])\n"
   ]
  },
  {
   "cell_type": "code",
   "execution_count": 14,
   "id": "4e385b4a",
   "metadata": {},
   "outputs": [],
   "source": [
    "# Step: Create Children column again, just to be safe\n",
    "df['Children'] = df['Kidhome'] + df['Teenhome']\n",
    "\n",
    "# Step: Drop Kidhome and Teenhome\n",
    "df = df.drop(columns=['Kidhome', 'Teenhome'])\n"
   ]
  },
  {
   "cell_type": "code",
   "execution_count": 15,
   "id": "93780e10",
   "metadata": {},
   "outputs": [],
   "source": [
    "# Drop unused columns again\n",
    "df_model = df.drop(columns=['ID', 'Year_Birth', 'Dt_Customer', 'Z_CostContact', 'Z_Revenue'])\n",
    "\n",
    "# Redo encoding and standardization\n",
    "df_model = pd.get_dummies(df_model, columns=['Education', 'Marital_Status'], drop_first=True)\n",
    "\n",
    "# Drop product amount columns again\n",
    "df_model = df_model.drop(columns=target_products)\n",
    "\n",
    "# Redefine X and y\n",
    "X = df_model.drop(columns=['TargetProduct'])\n",
    "y = df_model['TargetProduct']\n",
    "\n",
    "# Standardize\n",
    "from sklearn.preprocessing import StandardScaler\n",
    "numeric_cols = X.select_dtypes(include=['int64', 'float64']).columns\n",
    "scaler = StandardScaler()\n",
    "X[numeric_cols] = scaler.fit_transform(X[numeric_cols])\n"
   ]
  },
  {
   "cell_type": "markdown",
   "id": "4cda9f78",
   "metadata": {},
   "source": [
    "**Training the Model**"
   ]
  },
  {
   "cell_type": "code",
   "execution_count": 16,
   "id": "af3b79d1",
   "metadata": {},
   "outputs": [],
   "source": [
    "from sklearn.model_selection import train_test_split\n",
    "\n",
    "# Split data\n",
    "X_train, X_test, y_train, y_test = train_test_split(X, y, test_size=0.2, random_state=42, stratify=y)\n"
   ]
  },
  {
   "cell_type": "markdown",
   "id": "dccfffc3",
   "metadata": {},
   "source": [
    "**Baseline Logistic Regression**"
   ]
  },
  {
   "cell_type": "code",
   "execution_count": 17,
   "id": "2bec45a5",
   "metadata": {},
   "outputs": [
    {
     "name": "stdout",
     "output_type": "stream",
     "text": [
      "📊 Classification Report — Logistic Regression:\n",
      "              precision    recall  f1-score   support\n",
      "\n",
      "           0       0.76      0.96      0.85       308\n",
      "           1       0.00      0.00      0.00         3\n",
      "           2       0.50      0.16      0.24        89\n",
      "           3       0.33      0.08      0.13        12\n",
      "           4       0.00      0.00      0.00         3\n",
      "           5       0.50      0.42      0.46        33\n",
      "\n",
      "    accuracy                           0.73       448\n",
      "   macro avg       0.35      0.27      0.28       448\n",
      "weighted avg       0.67      0.73      0.67       448\n",
      "\n"
     ]
    }
   ],
   "source": [
    "from sklearn.linear_model import LogisticRegression\n",
    "from sklearn.metrics import classification_report\n",
    "\n",
    "# Train\n",
    "log_reg = LogisticRegression(max_iter=500, random_state=42)\n",
    "log_reg.fit(X_train, y_train)\n",
    "\n",
    "# Predict\n",
    "y_pred_log = log_reg.predict(X_test)\n",
    "\n",
    "# Report\n",
    "print(\"📊 Classification Report — Logistic Regression:\")\n",
    "print(classification_report(y_test, y_pred_log))\n"
   ]
  },
  {
   "cell_type": "markdown",
   "id": "a200de01",
   "metadata": {},
   "source": [
    "**Baseline k-Nearest Neighbors (k-NN)**"
   ]
  },
  {
   "cell_type": "code",
   "execution_count": 18,
   "id": "63bc9fe5",
   "metadata": {},
   "outputs": [
    {
     "name": "stdout",
     "output_type": "stream",
     "text": [
      "📊 Classification Report — k-Nearest Neighbors:\n",
      "              precision    recall  f1-score   support\n",
      "\n",
      "           0       0.78      0.91      0.84       308\n",
      "           1       0.00      0.00      0.00         3\n",
      "           2       0.45      0.35      0.39        89\n",
      "           3       0.22      0.17      0.19        12\n",
      "           4       0.00      0.00      0.00         3\n",
      "           5       0.42      0.15      0.22        33\n",
      "\n",
      "    accuracy                           0.71       448\n",
      "   macro avg       0.31      0.26      0.27       448\n",
      "weighted avg       0.67      0.71      0.68       448\n",
      "\n"
     ]
    }
   ],
   "source": [
    "from sklearn.neighbors import KNeighborsClassifier\n",
    "\n",
    "# Train\n",
    "knn = KNeighborsClassifier(n_neighbors=5)\n",
    "knn.fit(X_train, y_train)\n",
    "\n",
    "# Predict\n",
    "y_pred_knn = knn.predict(X_test)\n",
    "\n",
    "# Report\n",
    "print(\"📊 Classification Report — k-Nearest Neighbors:\")\n",
    "print(classification_report(y_test, y_pred_knn))\n"
   ]
  },
  {
   "cell_type": "markdown",
   "id": "065c9b65",
   "metadata": {},
   "source": [
    "**Baseline Decision Tree Classifier**"
   ]
  },
  {
   "cell_type": "code",
   "execution_count": 19,
   "id": "5b6f6767",
   "metadata": {},
   "outputs": [
    {
     "name": "stdout",
     "output_type": "stream",
     "text": [
      "📊 Classification Report — Decision Tree:\n",
      "              precision    recall  f1-score   support\n",
      "\n",
      "           0       0.83      0.85      0.84       308\n",
      "           1       1.00      0.67      0.80         3\n",
      "           2       0.47      0.45      0.46        89\n",
      "           3       0.31      0.33      0.32        12\n",
      "           4       0.33      0.33      0.33         3\n",
      "           5       0.43      0.36      0.39        33\n",
      "\n",
      "    accuracy                           0.71       448\n",
      "   macro avg       0.56      0.50      0.52       448\n",
      "weighted avg       0.71      0.71      0.71       448\n",
      "\n"
     ]
    }
   ],
   "source": [
    "from sklearn.tree import DecisionTreeClassifier\n",
    "\n",
    "# Train\n",
    "dt = DecisionTreeClassifier(random_state=42)\n",
    "dt.fit(X_train, y_train)\n",
    "\n",
    "# Predict\n",
    "y_pred_dt = dt.predict(X_test)\n",
    "\n",
    "# Report\n",
    "print(\"📊 Classification Report — Decision Tree:\")\n",
    "print(classification_report(y_test, y_pred_dt))\n"
   ]
  },
  {
   "cell_type": "markdown",
   "id": "aeffa215",
   "metadata": {},
   "source": [
    "**Baseline Random Forest Classifier**"
   ]
  },
  {
   "cell_type": "code",
   "execution_count": 20,
   "id": "4247a523",
   "metadata": {},
   "outputs": [
    {
     "name": "stdout",
     "output_type": "stream",
     "text": [
      "📊 Classification Report — Random Forest:\n",
      "              precision    recall  f1-score   support\n",
      "\n",
      "           0       0.78      0.93      0.85       308\n",
      "           1       1.00      0.67      0.80         3\n",
      "           2       0.44      0.26      0.33        89\n",
      "           3       0.67      0.33      0.44        12\n",
      "           4       1.00      0.33      0.50         3\n",
      "           5       0.61      0.42      0.50        33\n",
      "\n",
      "    accuracy                           0.73       448\n",
      "   macro avg       0.75      0.49      0.57       448\n",
      "weighted avg       0.70      0.73      0.71       448\n",
      "\n"
     ]
    }
   ],
   "source": [
    "from sklearn.ensemble import RandomForestClassifier\n",
    "\n",
    "# Train\n",
    "rf = RandomForestClassifier(n_estimators=100, random_state=42)\n",
    "rf.fit(X_train, y_train)\n",
    "\n",
    "# Predict\n",
    "y_pred_rf = rf.predict(X_test)\n",
    "\n",
    "# Report\n",
    "print(\"📊 Classification Report — Random Forest:\")\n",
    "print(classification_report(y_test, y_pred_rf))\n"
   ]
  },
  {
   "cell_type": "markdown",
   "id": "068fd965",
   "metadata": {},
   "source": [
    "**Baseline XGBoost Classifier**"
   ]
  },
  {
   "cell_type": "code",
   "execution_count": 21,
   "id": "e72883e1",
   "metadata": {},
   "outputs": [
    {
     "name": "stdout",
     "output_type": "stream",
     "text": [
      "📊 Classification Report — XGBoost:\n",
      "              precision    recall  f1-score   support\n",
      "\n",
      "           0       0.83      0.90      0.86       308\n",
      "           1       0.67      0.67      0.67         3\n",
      "           2       0.55      0.46      0.50        89\n",
      "           3       0.40      0.33      0.36        12\n",
      "           4       0.33      0.33      0.33         3\n",
      "           5       0.68      0.45      0.55        33\n",
      "\n",
      "    accuracy                           0.76       448\n",
      "   macro avg       0.58      0.53      0.55       448\n",
      "weighted avg       0.75      0.76      0.75       448\n",
      "\n"
     ]
    }
   ],
   "source": [
    "from xgboost import XGBClassifier\n",
    "\n",
    "# Train\n",
    "xgb = XGBClassifier(objective='multi:softmax', num_class=6, use_label_encoder=False, eval_metric='mlogloss', random_state=42)\n",
    "xgb.fit(X_train, y_train)\n",
    "\n",
    "# Predict\n",
    "y_pred_xgb = xgb.predict(X_test)\n",
    "\n",
    "# Report\n",
    "print(\"📊 Classification Report — XGBoost:\")\n",
    "print(classification_report(y_test, y_pred_xgb))\n"
   ]
  },
  {
   "cell_type": "markdown",
   "id": "4104439a",
   "metadata": {},
   "source": [
    "**Baseline Feature Importance**"
   ]
  },
  {
   "cell_type": "code",
   "execution_count": 22,
   "id": "cc8e40d1",
   "metadata": {},
   "outputs": [
    {
     "data": {
      "image/png": "[encoded data removed]",
      "text/plain": [
       "<Figure size 1000x600 with 1 Axes>"
      ]
     },
     "metadata": {},
     "output_type": "display_data"
    }
   ],
   "source": [
    "import matplotlib.pyplot as plt\n",
    "import pandas as pd\n",
    "\n",
    "# Get feature importance scores from XGBoost\n",
    "importances = xgb.feature_importances_\n",
    "\n",
    "# Create a DataFrame for visualization\n",
    "feature_importance_df = pd.DataFrame({\n",
    "    'Feature': X.columns,\n",
    "    'Importance': importances\n",
    "}).sort_values(by='Importance', ascending=False)\n",
    "\n",
    "# Plot\n",
    "plt.figure(figsize=(10, 6))\n",
    "plt.barh(feature_importance_df['Feature'], feature_importance_df['Importance'])\n",
    "plt.title('XGBoost Feature Importance')\n",
    "plt.xlabel('Importance Score')\n",
    "plt.gca().invert_yaxis()\n",
    "plt.tight_layout()\n",
    "plt.show()\n"
   ]
  },
  {
   "cell_type": "code",
   "execution_count": 23,
   "id": "6e2d7b9f",
   "metadata": {},
   "outputs": [
    {
     "name": "stdout",
     "output_type": "stream",
     "text": [
      "🎯 Top 10 features: ['AcceptedCmp4', 'Children', 'Education_PhD', 'Income', 'Education_Master', 'AcceptedCmp3', 'Education_Basic', 'AcceptedCmp5', 'NumCatalogPurchases', 'Education_Graduation']\n"
     ]
    }
   ],
   "source": [
    "# Top 10 features based on importance\n",
    "top_10_features = feature_importance_df.sort_values(by='Importance', ascending=False).head(10)['Feature'].tolist()\n",
    "print(\"🎯 Top 10 features:\", top_10_features)\n"
   ]
  },
  {
   "cell_type": "markdown",
   "id": "1c2f5907",
   "metadata": {},
   "source": [
    "**Re-training the model for better result**"
   ]
  },
  {
   "cell_type": "markdown",
   "id": "4b8e0f5d",
   "metadata": {},
   "source": [
    "**Keep Only Top 10 Features**"
   ]
  },
  {
   "cell_type": "code",
   "execution_count": 24,
   "id": "bd19beea",
   "metadata": {},
   "outputs": [],
   "source": [
    "# Final top 10 features list\n",
    "top_10_features = [\n",
    "    'AcceptedCmp4', 'Children', 'Education_PhD', 'Income',\n",
    "    'Education_Master', 'AcceptedCmp3', 'Education_Basic',\n",
    "    'AcceptedCmp5', 'NumCatalogPurchases', 'Education_Graduation'\n",
    "]\n",
    "\n",
    "# Reduce X to top 10 features\n",
    "X_top10 = X[top_10_features]\n"
   ]
  },
  {
   "cell_type": "markdown",
   "id": "d853e5eb",
   "metadata": {},
   "source": [
    "**New Train-Test Split**"
   ]
  },
  {
   "cell_type": "code",
   "execution_count": 25,
   "id": "91020391",
   "metadata": {},
   "outputs": [],
   "source": [
    "from sklearn.model_selection import train_test_split\n",
    "\n",
    "X_train, X_test, y_train, y_test = train_test_split(X_top10, y, test_size=0.2, random_state=42, stratify=y)\n"
   ]
  },
  {
   "cell_type": "markdown",
   "id": "de9e1392",
   "metadata": {},
   "source": [
    "**Logistic Regression**"
   ]
  },
  {
   "cell_type": "code",
   "execution_count": 26,
   "id": "d4b77848",
   "metadata": {},
   "outputs": [
    {
     "name": "stdout",
     "output_type": "stream",
     "text": [
      "📊 Classification Report — Logistic Regression (Top 10 Features):\n",
      "              precision    recall  f1-score   support\n",
      "\n",
      "           0       0.74      0.99      0.85       308\n",
      "           1       0.00      0.00      0.00         3\n",
      "           2       0.33      0.04      0.08        89\n",
      "           3       0.50      0.08      0.14        12\n",
      "           4       0.00      0.00      0.00         3\n",
      "           5       0.57      0.39      0.46        33\n",
      "\n",
      "    accuracy                           0.72       448\n",
      "   macro avg       0.36      0.25      0.26       448\n",
      "weighted avg       0.63      0.72      0.64       448\n",
      "\n"
     ]
    }
   ],
   "source": [
    "from sklearn.linear_model import LogisticRegression\n",
    "from sklearn.metrics import classification_report\n",
    "\n",
    "log_reg = LogisticRegression(max_iter=500, random_state=42)\n",
    "log_reg.fit(X_train, y_train)\n",
    "y_pred_log = log_reg.predict(X_test)\n",
    "\n",
    "print(\"📊 Classification Report — Logistic Regression (Top 10 Features):\")\n",
    "print(classification_report(y_test, y_pred_log))\n"
   ]
  },
  {
   "cell_type": "markdown",
   "id": "5b4349fb",
   "metadata": {},
   "source": [
    "k-Nearest Neighbors"
   ]
  },
  {
   "cell_type": "code",
   "execution_count": 27,
   "id": "a292eb36",
   "metadata": {},
   "outputs": [
    {
     "name": "stdout",
     "output_type": "stream",
     "text": [
      "📊 Classification Report — k-NN (Top 10 Features):\n",
      "              precision    recall  f1-score   support\n",
      "\n",
      "           0       0.78      0.91      0.84       308\n",
      "           1       0.00      0.00      0.00         3\n",
      "           2       0.47      0.29      0.36        89\n",
      "           3       0.50      0.17      0.25        12\n",
      "           4       0.00      0.00      0.00         3\n",
      "           5       0.48      0.36      0.41        33\n",
      "\n",
      "    accuracy                           0.72       448\n",
      "   macro avg       0.37      0.29      0.31       448\n",
      "weighted avg       0.68      0.72      0.69       448\n",
      "\n"
     ]
    }
   ],
   "source": [
    "from sklearn.neighbors import KNeighborsClassifier\n",
    "\n",
    "knn = KNeighborsClassifier(n_neighbors=5)\n",
    "knn.fit(X_train, y_train)\n",
    "y_pred_knn = knn.predict(X_test)\n",
    "\n",
    "print(\"📊 Classification Report — k-NN (Top 10 Features):\")\n",
    "print(classification_report(y_test, y_pred_knn))\n"
   ]
  },
  {
   "cell_type": "code",
   "execution_count": 28,
   "id": "13e4a31a",
   "metadata": {},
   "outputs": [
    {
     "name": "stdout",
     "output_type": "stream",
     "text": [
      "📊 Classification Report — Decision Tree (Top 10 Features):\n",
      "              precision    recall  f1-score   support\n",
      "\n",
      "           0       0.80      0.84      0.82       308\n",
      "           1       0.50      0.67      0.57         3\n",
      "           2       0.42      0.36      0.39        89\n",
      "           3       0.36      0.33      0.35        12\n",
      "           4       0.50      0.33      0.40         3\n",
      "           5       0.50      0.48      0.49        33\n",
      "\n",
      "    accuracy                           0.70       448\n",
      "   macro avg       0.51      0.50      0.50       448\n",
      "weighted avg       0.69      0.70      0.69       448\n",
      "\n"
     ]
    }
   ],
   "source": [
    "from sklearn.tree import DecisionTreeClassifier\n",
    "\n",
    "dt = DecisionTreeClassifier(random_state=42)\n",
    "dt.fit(X_train, y_train)\n",
    "y_pred_dt = dt.predict(X_test)\n",
    "\n",
    "print(\"📊 Classification Report — Decision Tree (Top 10 Features):\")\n",
    "print(classification_report(y_test, y_pred_dt))\n"
   ]
  },
  {
   "cell_type": "code",
   "execution_count": 29,
   "id": "cd5e7590",
   "metadata": {},
   "outputs": [
    {
     "name": "stdout",
     "output_type": "stream",
     "text": [
      "📊 Classification Report — Random Forest (Top 10 Features):\n",
      "              precision    recall  f1-score   support\n",
      "\n",
      "           0       0.81      0.87      0.84       308\n",
      "           1       0.40      0.67      0.50         3\n",
      "           2       0.53      0.37      0.44        89\n",
      "           3       0.33      0.42      0.37        12\n",
      "           4       0.25      0.33      0.29         3\n",
      "           5       0.57      0.52      0.54        33\n",
      "\n",
      "    accuracy                           0.73       448\n",
      "   macro avg       0.48      0.53      0.50       448\n",
      "weighted avg       0.72      0.73      0.72       448\n",
      "\n"
     ]
    }
   ],
   "source": [
    "from sklearn.ensemble import RandomForestClassifier\n",
    "\n",
    "rf = RandomForestClassifier(n_estimators=100, random_state=42)\n",
    "rf.fit(X_train, y_train)\n",
    "y_pred_rf = rf.predict(X_test)\n",
    "\n",
    "print(\"📊 Classification Report — Random Forest (Top 10 Features):\")\n",
    "print(classification_report(y_test, y_pred_rf))\n"
   ]
  },
  {
   "cell_type": "code",
   "execution_count": 30,
   "id": "6e2642ea",
   "metadata": {},
   "outputs": [
    {
     "name": "stdout",
     "output_type": "stream",
     "text": [
      "📊 Classification Report — XGBoost (Top 10 Features):\n",
      "              precision    recall  f1-score   support\n",
      "\n",
      "           0       0.81      0.88      0.85       308\n",
      "           1       0.67      0.67      0.67         3\n",
      "           2       0.47      0.38      0.42        89\n",
      "           3       0.40      0.33      0.36        12\n",
      "           4       1.00      0.33      0.50         3\n",
      "           5       0.63      0.52      0.57        33\n",
      "\n",
      "    accuracy                           0.74       448\n",
      "   macro avg       0.66      0.52      0.56       448\n",
      "weighted avg       0.72      0.74      0.72       448\n",
      "\n"
     ]
    }
   ],
   "source": [
    "from xgboost import XGBClassifier\n",
    "\n",
    "xgb = XGBClassifier(objective='multi:softmax', num_class=6, use_label_encoder=False, eval_metric='mlogloss', random_state=42)\n",
    "xgb.fit(X_train, y_train)\n",
    "y_pred_xgb = xgb.predict(X_test)\n",
    "\n",
    "print(\"📊 Classification Report — XGBoost (Top 10 Features):\")\n",
    "print(classification_report(y_test, y_pred_xgb))\n"
   ]
  },
  {
   "cell_type": "markdown",
   "id": "58e04dbf",
   "metadata": {},
   "source": [
    "**Check Target Distribution — Is It Balanced?**"
   ]
  },
  {
   "cell_type": "code",
   "execution_count": 31,
   "id": "ea7ff8f0",
   "metadata": {},
   "outputs": [
    {
     "name": "stdout",
     "output_type": "stream",
     "text": [
      "TargetProduct\n",
      "0    0.687054\n",
      "2    0.197768\n",
      "5    0.075000\n",
      "3    0.026339\n",
      "4    0.007143\n",
      "1    0.006696\n",
      "Name: proportion, dtype: float64\n"
     ]
    }
   ],
   "source": [
    "print(y.value_counts(normalize=True))\n"
   ]
  },
  {
   "cell_type": "markdown",
   "id": "1e033ce5",
   "metadata": {},
   "source": [
    "**Apply SMOTE**"
   ]
  },
  {
   "cell_type": "code",
   "execution_count": 32,
   "id": "c3c218da",
   "metadata": {},
   "outputs": [
    {
     "name": "stdout",
     "output_type": "stream",
     "text": [
      "Requirement already satisfied: imbalanced-learn in c:\\users\\priya\\appdata\\local\\programs\\python\\python313\\lib\\site-packages (0.13.0)\n",
      "Requirement already satisfied: numpy<3,>=1.24.3 in c:\\users\\priya\\appdata\\local\\programs\\python\\python313\\lib\\site-packages (from imbalanced-learn) (2.3.0)\n",
      "Requirement already satisfied: scipy<2,>=1.10.1 in c:\\users\\priya\\appdata\\local\\programs\\python\\python313\\lib\\site-packages (from imbalanced-learn) (1.15.3)\n",
      "Requirement already satisfied: scikit-learn<2,>=1.3.2 in c:\\users\\priya\\appdata\\local\\programs\\python\\python313\\lib\\site-packages (from imbalanced-learn) (1.6.1)\n",
      "Requirement already satisfied: sklearn-compat<1,>=0.1 in c:\\users\\priya\\appdata\\local\\programs\\python\\python313\\lib\\site-packages (from imbalanced-learn) (0.1.3)\n",
      "Requirement already satisfied: joblib<2,>=1.1.1 in c:\\users\\priya\\appdata\\local\\programs\\python\\python313\\lib\\site-packages (from imbalanced-learn) (1.5.1)\n",
      "Requirement already satisfied: threadpoolctl<4,>=2.0.0 in c:\\users\\priya\\appdata\\local\\programs\\python\\python313\\lib\\site-packages (from imbalanced-learn) (3.6.0)\n"
     ]
    },
    {
     "name": "stderr",
     "output_type": "stream",
     "text": [
      "\n",
      "[notice] A new release of pip is available: 24.2 -> 25.1.1\n",
      "[notice] To update, run: python.exe -m pip install --upgrade pip\n"
     ]
    }
   ],
   "source": [
    "!pip install imbalanced-learn\n"
   ]
  },
  {
   "cell_type": "code",
   "execution_count": 33,
   "id": "5d2a0f08",
   "metadata": {},
   "outputs": [
    {
     "name": "stdout",
     "output_type": "stream",
     "text": [
      "Found existing installation: imbalanced-learn 0.13.0\n",
      "Uninstalling imbalanced-learn-0.13.0:\n",
      "  Successfully uninstalled imbalanced-learn-0.13.0\n",
      "Found existing installation: scikit-learn 1.6.1\n",
      "Uninstalling scikit-learn-1.6.1:\n",
      "  Successfully uninstalled scikit-learn-1.6.1\n"
     ]
    },
    {
     "name": "stderr",
     "output_type": "stream",
     "text": [
      "WARNING: Failed to remove contents in a temporary directory 'C:\\Users\\priya\\AppData\\Local\\Programs\\Python\\Python313\\Lib\\site-packages\\~~learn'.\n",
      "You can safely remove it manually.\n"
     ]
    },
    {
     "name": "stdout",
     "output_type": "stream",
     "text": [
      "Collecting scikit-learn\n",
      "  Using cached scikit_learn-1.7.0-cp313-cp313-win_amd64.whl.metadata (14 kB)\n",
      "Collecting imbalanced-learn\n",
      "  Using cached imbalanced_learn-0.13.0-py3-none-any.whl.metadata (8.8 kB)\n",
      "Requirement already satisfied: numpy>=1.22.0 in c:\\users\\priya\\appdata\\local\\programs\\python\\python313\\lib\\site-packages (from scikit-learn) (2.3.0)\n",
      "Requirement already satisfied: scipy>=1.8.0 in c:\\users\\priya\\appdata\\local\\programs\\python\\python313\\lib\\site-packages (from scikit-learn) (1.15.3)\n",
      "Requirement already satisfied: joblib>=1.2.0 in c:\\users\\priya\\appdata\\local\\programs\\python\\python313\\lib\\site-packages (from scikit-learn) (1.5.1)\n",
      "Requirement already satisfied: threadpoolctl>=3.1.0 in c:\\users\\priya\\appdata\\local\\programs\\python\\python313\\lib\\site-packages (from scikit-learn) (3.6.0)\n",
      "Requirement already satisfied: sklearn-compat<1,>=0.1 in c:\\users\\priya\\appdata\\local\\programs\\python\\python313\\lib\\site-packages (from imbalanced-learn) (0.1.3)\n",
      "Collecting scikit-learn\n",
      "  Using cached scikit_learn-1.6.1-cp313-cp313-win_amd64.whl.metadata (15 kB)\n",
      "Using cached imbalanced_learn-0.13.0-py3-none-any.whl (238 kB)\n",
      "Using cached scikit_learn-1.6.1-cp313-cp313-win_amd64.whl (11.1 MB)\n",
      "Installing collected packages: scikit-learn, imbalanced-learn\n",
      "Successfully installed imbalanced-learn-0.13.0 scikit-learn-1.6.1\n"
     ]
    },
    {
     "name": "stderr",
     "output_type": "stream",
     "text": [
      "\n",
      "[notice] A new release of pip is available: 24.2 -> 25.1.1\n",
      "[notice] To update, run: python.exe -m pip install --upgrade pip\n"
     ]
    }
   ],
   "source": [
    "!pip uninstall -y imbalanced-learn scikit-learn\n",
    "!pip install -U scikit-learn imbalanced-learn\n"
   ]
  },
  {
   "cell_type": "code",
   "execution_count": 34,
   "id": "8fe8809d",
   "metadata": {},
   "outputs": [
    {
     "name": "stdout",
     "output_type": "stream",
     "text": [
      "✅ Resampling completed!\n",
      "🔢 Class distribution after SMOTE:\n",
      "TargetProduct\n",
      "0    1539\n",
      "2    1539\n",
      "1    1539\n",
      "3    1539\n",
      "5    1539\n",
      "4    1539\n",
      "Name: count, dtype: int64\n"
     ]
    }
   ],
   "source": [
    "from imblearn.over_sampling import SMOTE\n",
    "\n",
    "smote = SMOTE(random_state=42)\n",
    "X_resampled, y_resampled = smote.fit_resample(X_top10, y)\n",
    "\n",
    "print(\"✅ Resampling completed!\")\n",
    "print(\"🔢 Class distribution after SMOTE:\")\n",
    "print(pd.Series(y_resampled).value_counts())\n"
   ]
  },
  {
   "cell_type": "code",
   "execution_count": 35,
   "id": "7e9feb1f",
   "metadata": {},
   "outputs": [],
   "source": [
    "from sklearn.model_selection import train_test_split\n",
    "\n",
    "X_train, X_test, y_train, y_test = train_test_split(X_resampled, y_resampled, test_size=0.2, random_state=42, stratify=y_resampled)\n"
   ]
  },
  {
   "cell_type": "code",
   "execution_count": 37,
   "id": "9e469529",
   "metadata": {},
   "outputs": [],
   "source": [
    "X_full = X  # this should include all scaled, cleaned, encoded features\n",
    "X_resampled, y_resampled = smote.fit_resample(X_full, y)\n"
   ]
  },
  {
   "cell_type": "markdown",
   "id": "a70df567",
   "metadata": {},
   "source": [
    "**Create New Behavioral Features**"
   ]
  },
  {
   "cell_type": "code",
   "execution_count": 38,
   "id": "48415af9",
   "metadata": {},
   "outputs": [],
   "source": [
    "# 1. Total campaign engagement\n",
    "df['Campaign_Score'] = df[['AcceptedCmp1', 'AcceptedCmp2', 'AcceptedCmp3', 'AcceptedCmp4', 'AcceptedCmp5']].sum(axis=1)\n",
    "\n",
    "# 2. Total number of purchases\n",
    "df['TotalPurchases'] = df[['NumWebPurchases', 'NumCatalogPurchases', 'NumStorePurchases']].sum(axis=1)\n",
    "\n",
    "# 3. Online engagement (visits + web purchases)\n",
    "df['OnlineEngagement'] = df['NumWebPurchases'] + df['NumWebVisitsMonth']\n"
   ]
  },
  {
   "cell_type": "markdown",
   "id": "b9b03952",
   "metadata": {},
   "source": [
    "**Rebuild Feature Set**"
   ]
  },
  {
   "cell_type": "code",
   "execution_count": null,
   "id": "8197d306",
   "metadata": {},
   "outputs": [],
   "source": [
    "# Drop unused columns and rebuild feature set\n",
    "df_model = df.drop(columns=['ID', 'Year_Birth', 'Dt_Customer', 'Z_CostContact', 'Z_Revenue'] + target_products)\n",
    "\n",
    "# Re-encode categorical\n",
    "df_model = pd.get_dummies(df_model, columns=['Education', 'Marital_Status'], drop_first=True)\n",
    "\n",
    "# Redefine X and y\n",
    "X_all = df_model.drop(columns=['TargetProduct'])\n",
    "y_all = df_model['TargetProduct']\n",
    "\n",
    "# Standardize\n",
    "from sklearn.preprocessing import StandardScaler\n",
    "numeric_cols = X_all.select_dtypes(include=['int64', 'float64']).columns\n",
    "scaler = StandardScaler()\n",
    "X_all[numeric_cols] = scaler.fit_transform(X_all[numeric_cols])\n"
   ]
  },
  {
   "cell_type": "markdown",
   "id": "e51a2a71",
   "metadata": {},
   "source": [
    "**Apply SMOTE Again**"
   ]
  },
  {
   "cell_type": "code",
   "execution_count": 40,
   "id": "24b9402f",
   "metadata": {},
   "outputs": [],
   "source": [
    "from imblearn.over_sampling import SMOTE\n",
    "\n",
    "smote = SMOTE(random_state=42)\n",
    "X_resampled_all, y_resampled_all = smote.fit_resample(X_all, y_all)\n"
   ]
  },
  {
   "cell_type": "code",
   "execution_count": 41,
   "id": "4a8839cc",
   "metadata": {},
   "outputs": [],
   "source": [
    "from sklearn.model_selection import train_test_split\n",
    "\n",
    "X_train, X_test, y_train, y_test = train_test_split(X_resampled_all, y_resampled_all, test_size=0.2, random_state=42, stratify=y_resampled_all)\n"
   ]
  },
  {
   "cell_type": "markdown",
   "id": "d8ef871c",
   "metadata": {},
   "source": [
    "**MODEL RESULTS (SMOTE)**"
   ]
  },
  {
   "cell_type": "code",
   "execution_count": 53,
   "id": "03068f9d",
   "metadata": {},
   "outputs": [
    {
     "name": "stdout",
     "output_type": "stream",
     "text": [
      "📊 Classification Report — Logistic Regression (All Features + SMOTE):\n",
      "              precision    recall  f1-score   support\n",
      "\n",
      "           0       0.76      0.76      0.76       307\n",
      "           1       0.74      0.76      0.75       308\n",
      "           2       0.62      0.58      0.60       308\n",
      "           3       0.49      0.56      0.52       308\n",
      "           4       0.71      0.72      0.72       308\n",
      "           5       0.55      0.49      0.52       308\n",
      "\n",
      "    accuracy                           0.64      1847\n",
      "   macro avg       0.65      0.64      0.64      1847\n",
      "weighted avg       0.65      0.64      0.64      1847\n",
      "\n"
     ]
    }
   ],
   "source": [
    "from sklearn.linear_model import LogisticRegression\n",
    "from sklearn.metrics import classification_report\n",
    "\n",
    "log_reg = LogisticRegression(max_iter=500, random_state=42)\n",
    "log_reg.fit(X_train, y_train)\n",
    "y_pred_log = log_reg.predict(X_test)\n",
    "\n",
    "print(\"📊 Classification Report — Logistic Regression (All Features + SMOTE):\")\n",
    "print(classification_report(y_test, y_pred_log))\n"
   ]
  },
  {
   "cell_type": "code",
   "execution_count": 54,
   "id": "e32f25bb",
   "metadata": {},
   "outputs": [
    {
     "name": "stdout",
     "output_type": "stream",
     "text": [
      "📊 Classification Report — k-NN (All Features + SMOTE):\n",
      "              precision    recall  f1-score   support\n",
      "\n",
      "           0       0.88      0.66      0.75       307\n",
      "           1       0.99      1.00      0.99       308\n",
      "           2       0.80      0.84      0.82       308\n",
      "           3       0.92      0.99      0.95       308\n",
      "           4       0.98      1.00      0.99       308\n",
      "           5       0.89      0.95      0.92       308\n",
      "\n",
      "    accuracy                           0.91      1847\n",
      "   macro avg       0.91      0.91      0.91      1847\n",
      "weighted avg       0.91      0.91      0.91      1847\n",
      "\n"
     ]
    }
   ],
   "source": [
    "from sklearn.neighbors import KNeighborsClassifier\n",
    "\n",
    "knn = KNeighborsClassifier(n_neighbors=5)\n",
    "knn.fit(X_train, y_train)\n",
    "y_pred_knn = knn.predict(X_test)\n",
    "\n",
    "print(\"📊 Classification Report — k-NN (All Features + SMOTE):\")\n",
    "print(classification_report(y_test, y_pred_knn))\n"
   ]
  },
  {
   "cell_type": "code",
   "execution_count": 55,
   "id": "5f25e078",
   "metadata": {},
   "outputs": [
    {
     "name": "stdout",
     "output_type": "stream",
     "text": [
      "📊 Classification Report — Decision Tree (All Features + SMOTE):\n",
      "              precision    recall  f1-score   support\n",
      "\n",
      "           0       0.81      0.75      0.78       307\n",
      "           1       0.98      0.99      0.98       308\n",
      "           2       0.78      0.77      0.77       308\n",
      "           3       0.91      0.92      0.91       308\n",
      "           4       0.99      0.99      0.99       308\n",
      "           5       0.85      0.90      0.88       308\n",
      "\n",
      "    accuracy                           0.89      1847\n",
      "   macro avg       0.89      0.89      0.89      1847\n",
      "weighted avg       0.89      0.89      0.89      1847\n",
      "\n"
     ]
    }
   ],
   "source": [
    "from sklearn.tree import DecisionTreeClassifier\n",
    "\n",
    "dt = DecisionTreeClassifier(random_state=42)\n",
    "dt.fit(X_train, y_train)\n",
    "y_pred_dt = dt.predict(X_test)\n",
    "\n",
    "print(\"📊 Classification Report — Decision Tree (All Features + SMOTE):\")\n",
    "print(classification_report(y_test, y_pred_dt))\n"
   ]
  },
  {
   "cell_type": "code",
   "execution_count": 56,
   "id": "ed0f7df0",
   "metadata": {},
   "outputs": [
    {
     "name": "stdout",
     "output_type": "stream",
     "text": [
      "📊 Classification Report — Random Forest (All Features + SMOTE):\n",
      "              precision    recall  f1-score   support\n",
      "\n",
      "           0       0.88      0.88      0.88       307\n",
      "           1       1.00      1.00      1.00       308\n",
      "           2       0.90      0.86      0.88       308\n",
      "           3       0.97      0.99      0.98       308\n",
      "           4       1.00      1.00      1.00       308\n",
      "           5       0.95      0.97      0.96       308\n",
      "\n",
      "    accuracy                           0.95      1847\n",
      "   macro avg       0.95      0.95      0.95      1847\n",
      "weighted avg       0.95      0.95      0.95      1847\n",
      "\n"
     ]
    }
   ],
   "source": [
    "from sklearn.ensemble import RandomForestClassifier\n",
    "\n",
    "rf = RandomForestClassifier(n_estimators=100, random_state=42)\n",
    "rf.fit(X_train, y_train)\n",
    "y_pred_rf = rf.predict(X_test)\n",
    "\n",
    "print(\"📊 Classification Report — Random Forest (All Features + SMOTE):\")\n",
    "print(classification_report(y_test, y_pred_rf))\n"
   ]
  },
  {
   "cell_type": "code",
   "execution_count": 57,
   "id": "bc9e8d8f",
   "metadata": {},
   "outputs": [
    {
     "name": "stdout",
     "output_type": "stream",
     "text": [
      "📊 Classification Report — XGBoost (All Features + SMOTE):\n",
      "              precision    recall  f1-score   support\n",
      "\n",
      "           0       0.85      0.91      0.88       307\n",
      "           1       1.00      1.00      1.00       308\n",
      "           2       0.92      0.84      0.88       308\n",
      "           3       0.97      1.00      0.98       308\n",
      "           4       1.00      1.00      1.00       308\n",
      "           5       0.96      0.95      0.96       308\n",
      "\n",
      "    accuracy                           0.95      1847\n",
      "   macro avg       0.95      0.95      0.95      1847\n",
      "weighted avg       0.95      0.95      0.95      1847\n",
      "\n"
     ]
    }
   ],
   "source": [
    "from xgboost import XGBClassifier\n",
    "import numpy as np\n",
    "\n",
    "xgb = XGBClassifier(objective='multi:softprob', num_class=6, use_label_encoder=False, eval_metric='mlogloss', random_state=42)\n",
    "xgb.fit(X_train, y_train)\n",
    "\n",
    "# Use predict_proba + argmax for better class confidence handling\n",
    "y_proba_xgb = xgb.predict_proba(X_test)\n",
    "y_pred_xgb = np.argmax(y_proba_xgb, axis=1)\n",
    "\n",
    "print(\"📊 Classification Report — XGBoost (All Features + SMOTE):\")\n",
    "print(classification_report(y_test, y_pred_xgb))\n"
   ]
  }
 ],
 "metadata": {
  "kernelspec": {
   "display_name": "Python 3",
   "language": "python",
   "name": "python3"
  },
  "language_info": {
   "codemirror_mode": {
    "name": "ipython",
    "version": 3
   },
   "file_extension": ".py",
   "mimetype": "text/x-python",
   "name": "python",
   "nbconvert_exporter": "python",
   "pygments_lexer": "ipython3",
   "version": "3.13.0"
  }
 },
 "nbformat": 4,
 "nbformat_minor": 5
}
